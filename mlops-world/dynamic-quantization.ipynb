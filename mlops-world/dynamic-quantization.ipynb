{
 "cells": [
  {
   "cell_type": "markdown",
   "id": "ee47bc31-6686-4cf4-b81d-1ac6b0a99a05",
   "metadata": {},
   "source": [
    "# Dynamic Quantization with Hugging Face Optimum"
   ]
  },
  {
   "cell_type": "markdown",
   "id": "628d20db-4bb6-49bd-a43b-72897b831826",
   "metadata": {},
   "source": [
    "{{ badge }}"
   ]
  },
  {
   "cell_type": "markdown",
   "id": "4149dbcf-508c-4c70-b794-91376a7e3662",
   "metadata": {},
   "source": [
    "## Learning objectives"
   ]
  },
  {
   "cell_type": "markdown",
   "id": "0795d087-77f9-4d82-915f-983f13abf4ea",
   "metadata": {
    "tags": []
   },
   "source": [
    "## Setup"
   ]
  },
  {
   "cell_type": "code",
   "execution_count": null,
   "id": "327dfc3f-02be-4816-bd20-305607accef0",
   "metadata": {},
   "outputs": [],
   "source": [
    "%pip install \"optimum[onnxruntime]==1.2.2\" evaluate"
   ]
  },
  {
   "cell_type": "code",
   "execution_count": 177,
   "id": "b8682b6b-21ac-4c1a-ab4f-d7ac602e0dd1",
   "metadata": {},
   "outputs": [],
   "source": [
    "from huggingface_hub import notebook_login\n",
    "\n",
    "notebook_login()"
   ]
  },
  {
   "cell_type": "markdown",
   "id": "3e119d7c-f2b5-4f2e-928e-f2ebb9152eb2",
   "metadata": {},
   "source": [
    "## Imports"
   ]
  },
  {
   "cell_type": "code",
   "execution_count": 1,
   "id": "2c2da94f-cd18-41a8-be58-8ce5d4020eb9",
   "metadata": {},
   "outputs": [],
   "source": [
    "import os\n",
    "from pathlib import Path\n",
    "from time import perf_counter\n",
    "\n",
    "import numpy as np\n",
    "from datasets import load_dataset\n",
    "from evaluate import evaluator\n",
    "from optimum.onnxruntime import (\n",
    "    ORTModelForSequenceClassification,\n",
    "    ORTOptimizer,\n",
    "    ORTQuantizer,\n",
    ")\n",
    "from optimum.onnxruntime.configuration import AutoQuantizationConfig, OptimizationConfig\n",
    "from optimum.pipelines import pipeline\n",
    "from transformers import AutoTokenizer\n",
    "from transformers import pipeline as transformers_pipeline\n",
    "import matplotlib.pyplot as plt"
   ]
  },
  {
   "cell_type": "code",
   "execution_count": 2,
   "id": "5826f7b1-1c62-43cf-807a-cb97081f6f7c",
   "metadata": {},
   "outputs": [],
   "source": [
    "import datasets\n",
    "import evaluate\n",
    "\n",
    "datasets.logging.set_verbosity_error()\n",
    "evaluate.logging.set_verbosity_error()"
   ]
  },
  {
   "cell_type": "markdown",
   "id": "bcf9bc34-fdf8-4e96-840d-d48ec32ac0a2",
   "metadata": {},
   "source": [
    "## Load dataset and fine-tuned model"
   ]
  },
  {
   "cell_type": "code",
   "execution_count": 3,
   "id": "3eecac08-c5c8-4384-a78f-4ebb0da04a60",
   "metadata": {},
   "outputs": [],
   "source": [
    "dataset = load_dataset(\"banking77\", split=\"test\")"
   ]
  },
  {
   "cell_type": "code",
   "execution_count": 4,
   "id": "1c011e1f-296e-4600-8810-5a8268b85c9c",
   "metadata": {},
   "outputs": [],
   "source": [
    "model_id = \"optimum/distilbert-base-uncased-finetuned-banking77\"\n",
    "classifier = transformers_pipeline(\"text-classification\", model=model_id)"
   ]
  },
  {
   "cell_type": "markdown",
   "id": "ba20ed3f-acc1-42da-be43-f344e1ddc1e5",
   "metadata": {},
   "source": [
    "### Evaluate the model"
   ]
  },
  {
   "cell_type": "code",
   "execution_count": 6,
   "id": "17042993-fcd5-4ec2-91a5-ed01dbab03ff",
   "metadata": {},
   "outputs": [
    {
     "data": {
      "text/plain": [
       "{'accuracy': 0.925}"
      ]
     },
     "execution_count": 6,
     "metadata": {},
     "output_type": "execute_result"
    }
   ],
   "source": [
    "label_mapping = classifier.model.config.label2id\n",
    "eval_pipe = evaluator(\"text-classification\")\n",
    "\n",
    "baseline_metrics = eval_pipe.compute(\n",
    "    model_or_pipeline=classifier,\n",
    "    data=dataset,\n",
    "    metric=\"accuracy\",\n",
    "    input_column=\"text\",\n",
    "    label_column=\"label\",\n",
    "    label_mapping=label_mapping,\n",
    "    strategy=\"simple\",\n",
    ")\n",
    "baseline_metrics"
   ]
  },
  {
   "cell_type": "code",
   "execution_count": 154,
   "id": "a21a0ca6-aa25-4f63-9638-25d1d15215c0",
   "metadata": {},
   "outputs": [],
   "source": [
    "def time_pipeline(pipeline, dataset, num_samples=100):\n",
    "    sample_ds = dataset.shuffle(seed=42).select(range(num_samples))\n",
    "    latencies = []\n",
    "    # Timed run\n",
    "    for sample in sample_ds:\n",
    "        start_time = perf_counter()\n",
    "        _ = pipeline(sample[\"text\"])\n",
    "        latency = perf_counter() - start_time\n",
    "        latencies.append(latency)\n",
    "    # Compute run statistics\n",
    "    time_avg_ms = 1000 * np.mean(latencies)\n",
    "    time_std_ms = 1000 * np.std(latencies)\n",
    "    print(f\"Average latency (ms) - {time_avg_ms:.2f} +\\- {time_std_ms:.2f}\")\n",
    "    return {\"time_avg_ms\": time_avg_ms, \"time_std_ms\": time_std_ms}"
   ]
  },
  {
   "cell_type": "code",
   "execution_count": 155,
   "id": "ef89c6fa-5ccd-4981-bf9d-39dec1454b6f",
   "metadata": {},
   "outputs": [
    {
     "name": "stdout",
     "output_type": "stream",
     "text": [
      "Average latency (ms) - 60.44 +\\- 16.43\n"
     ]
    }
   ],
   "source": [
    "baseline_latency = time_pipeline(classifier, dataset)"
   ]
  },
  {
   "cell_type": "markdown",
   "id": "7723a4c7-162c-416b-9922-45f4fb514226",
   "metadata": {},
   "source": [
    "## Dynamic quantization"
   ]
  },
  {
   "cell_type": "code",
   "execution_count": 95,
   "id": "db552bba-8bb8-4164-85c3-a0aa9478e507",
   "metadata": {},
   "outputs": [],
   "source": [
    "onnx_path = Path(\"onnx\")\n",
    "task = \"sequence-classification\""
   ]
  },
  {
   "cell_type": "code",
   "execution_count": 96,
   "id": "c1c76418-ac94-43b0-b320-4507b3be8228",
   "metadata": {},
   "outputs": [
    {
     "data": {
      "application/vnd.jupyter.widget-view+json": {
       "model_id": "b38bb064b60c4fedb8d29fbef1ed2ade",
       "version_major": 2,
       "version_minor": 0
      },
      "text/plain": [
       "Downloading:   0%|          | 0.00/5.81k [00:00<?, ?B/s]"
      ]
     },
     "metadata": {},
     "output_type": "display_data"
    }
   ],
   "source": [
    "# load vanilla transformers and convert to onnx\n",
    "model = ORTModelForSequenceClassification.from_pretrained(\n",
    "    model_id, from_transformers=True\n",
    ")\n",
    "tokenizer = AutoTokenizer.from_pretrained(model_id)"
   ]
  },
  {
   "cell_type": "code",
   "execution_count": 100,
   "id": "61ea81a2-970a-47bc-a6ad-30323b3aacaf",
   "metadata": {},
   "outputs": [
    {
     "data": {
      "text/plain": [
       "('onnx/tokenizer_config.json',\n",
       " 'onnx/special_tokens_map.json',\n",
       " 'onnx/vocab.txt',\n",
       " 'onnx/added_tokens.json',\n",
       " 'onnx/tokenizer.json')"
      ]
     },
     "execution_count": 100,
     "metadata": {},
     "output_type": "execute_result"
    }
   ],
   "source": [
    "# save onnx checkpoint and tokenizer\n",
    "model.save_pretrained(onnx_path)\n",
    "tokenizer.save_pretrained(onnx_path)"
   ]
  },
  {
   "cell_type": "code",
   "execution_count": 99,
   "id": "ad3f1148-133a-4986-b88f-daf3272c8669",
   "metadata": {},
   "outputs": [],
   "source": [
    "# create ORTOptimizer and define optimization configuration\n",
    "dynamic_optimizer = ORTOptimizer.from_pretrained(model_id, feature=task)\n",
    "dynamic_optimization_config = OptimizationConfig(\n",
    "    optimization_level=99\n",
    ")  # enable all optimizations"
   ]
  },
  {
   "cell_type": "code",
   "execution_count": 101,
   "id": "dc1d0870-ecb3-4976-8252-ce333b61b581",
   "metadata": {},
   "outputs": [
    {
     "name": "stderr",
     "output_type": "stream",
     "text": [
      "2022-06-06 15:29:38.500689 [W:onnxruntime:, inference_session.cc:1546 Initialize] Serializing optimized model with Graph Optimization level greater than ORT_ENABLE_EXTENDED and the NchwcTransformer enabled. The generated model may contain hardware specific optimizations, and should only be used in the same environment the model was optimized in.\n"
     ]
    },
    {
     "data": {
      "text/plain": [
       "PosixPath('onnx/model-optimized.onnx')"
      ]
     },
     "execution_count": 101,
     "metadata": {},
     "output_type": "execute_result"
    }
   ],
   "source": [
    "# apply the optimization configuration to the model\n",
    "model_optimized_path = dynamic_optimizer.export(\n",
    "    onnx_model_path=onnx_path / \"model.onnx\",\n",
    "    onnx_optimized_model_output_path=onnx_path / \"model-optimized.onnx\",\n",
    "    optimization_config=dynamic_optimization_config,\n",
    ")\n",
    "model_optimized_path"
   ]
  },
  {
   "cell_type": "code",
   "execution_count": 102,
   "id": "749d4119-7408-402d-a6ac-83d046444802",
   "metadata": {},
   "outputs": [
    {
     "name": "stdout",
     "output_type": "stream",
     "text": [
      "config.json             model.onnx              tokenizer_config.json\n",
      "model-optimized.onnx    special_tokens_map.json vocab.txt\n",
      "model-quantized.onnx    tokenizer.json\n"
     ]
    }
   ],
   "source": [
    "!ls {onnx_path}"
   ]
  },
  {
   "cell_type": "code",
   "execution_count": 170,
   "id": "b167e925-04b2-4613-bc93-065b0ba20869",
   "metadata": {},
   "outputs": [],
   "source": [
    "# create ORTQuantizer and define quantization configuration\n",
    "dynamic_quantizer = ORTQuantizer.from_pretrained(model_id, feature=task)\n",
    "dqconfig = AutoQuantizationConfig.avx512_vnni(is_static=False, per_channel=True)\n",
    "\n",
    "# apply the quantization configuration to the model\n",
    "model_quantized_path = dynamic_quantizer.export(\n",
    "    onnx_model_path=onnx_path / \"model-optimized.onnx\",\n",
    "    onnx_quantized_model_output_path=onnx_path / \"model-quantized-dynamic.onnx\",\n",
    "    quantization_config=dqconfig,\n",
    ")"
   ]
  },
  {
   "cell_type": "code",
   "execution_count": 171,
   "id": "83bfbc0d-2591-427a-a885-992760edf24a",
   "metadata": {},
   "outputs": [
    {
     "name": "stdout",
     "output_type": "stream",
     "text": [
      "config.json                  special_tokens_map.json\n",
      "model-optimized.onnx         tokenizer.json\n",
      "model-quantized-dynamic.onnx tokenizer_config.json\n",
      "model-quantized.onnx         vocab.txt\n",
      "model.onnx\n"
     ]
    }
   ],
   "source": [
    "!ls {onnx_path}"
   ]
  },
  {
   "cell_type": "code",
   "execution_count": 172,
   "id": "8abb3992-b265-4007-a488-fae37b67ec8d",
   "metadata": {},
   "outputs": [
    {
     "name": "stdout",
     "output_type": "stream",
     "text": [
      "Vanilla Onnx Model file size: 255.68 MB\n",
      "Quantized Onnx Model file size: 164.67 MB\n"
     ]
    }
   ],
   "source": [
    "# get model file size\n",
    "size = os.path.getsize(onnx_path / \"model.onnx\") / (1024 * 1024)\n",
    "print(f\"Vanilla Onnx Model file size: {size:.2f} MB\")\n",
    "size = os.path.getsize(onnx_path / \"model-quantized-dynamic.onnx\") / (1024 * 1024)\n",
    "print(f\"Quantized Onnx Model file size: {size:.2f} MB\")"
   ]
  },
  {
   "cell_type": "code",
   "execution_count": 173,
   "id": "457143e7-57ee-49db-bc3b-8e149c5376c8",
   "metadata": {},
   "outputs": [],
   "source": [
    "model = ORTModelForSequenceClassification.from_pretrained(\n",
    "    onnx_path, file_name=\"model-quantized-dynamic.onnx\"\n",
    ")"
   ]
  },
  {
   "cell_type": "code",
   "execution_count": 179,
   "id": "2cf2d0ab-81c7-4f39-9f61-5a1571f64e7c",
   "metadata": {},
   "outputs": [
    {
     "data": {
      "text/plain": [
       "'optimum/distilbert-base-uncased-finetuned-banking77'"
      ]
     },
     "execution_count": 179,
     "metadata": {},
     "output_type": "execute_result"
    }
   ],
   "source": [
    "model_id"
   ]
  },
  {
   "cell_type": "code",
   "execution_count": 182,
   "id": "354b0918-3ea7-432b-96df-0014a341d9ad",
   "metadata": {},
   "outputs": [
    {
     "name": "stderr",
     "output_type": "stream",
     "text": [
      "/Users/lewtun/miniconda3/envs/hf/lib/python3.9/site-packages/huggingface_hub/hf_api.py:79: FutureWarning: `name` and `organization` input arguments are deprecated and will be removed in v0.8. Pass `repo_id` instead.\n",
      "  warnings.warn(\n"
     ]
    }
   ],
   "source": [
    "# Would be cool to get the URL like in transformers\n",
    "model.push_to_hub(save_directory=\"onnx\", repository_id=\"distilbert-base-uncased-finetuned-banking77\", use_auth_token=True)"
   ]
  },
  {
   "cell_type": "code",
   "execution_count": 106,
   "id": "cd906991-5a3e-4aa3-aba5-4d8b7677e8fd",
   "metadata": {},
   "outputs": [],
   "source": [
    "ort_classifier = pipeline(\"text-classification\", model=model, tokenizer=tokenizer)"
   ]
  },
  {
   "cell_type": "code",
   "execution_count": 107,
   "id": "cec7aaf8-f582-4d1d-98dd-a7e1b582507d",
   "metadata": {},
   "outputs": [
    {
     "data": {
      "text/plain": [
       "[{'label': 'request_refund', 'score': 0.24217796325683594}]"
      ]
     },
     "execution_count": 107,
     "metadata": {},
     "output_type": "execute_result"
    }
   ],
   "source": [
    "ort_classifier(\"I want to pay a new car\")"
   ]
  },
  {
   "cell_type": "code",
   "execution_count": 108,
   "id": "7fde7542-1873-4ee4-ad0e-928890aad95c",
   "metadata": {},
   "outputs": [
    {
     "name": "stdout",
     "output_type": "stream",
     "text": [
      "CPU times: user 2min 22s, sys: 694 ms, total: 2min 23s\n",
      "Wall time: 29.9 s\n"
     ]
    },
    {
     "data": {
      "text/plain": [
       "{'accuracy': 0.9227272727272727}"
      ]
     },
     "execution_count": 108,
     "metadata": {},
     "output_type": "execute_result"
    }
   ],
   "source": [
    "quantized_results = eval_pipe.compute(\n",
    "    model_or_pipeline=ort_classifier,\n",
    "    data=dataset,\n",
    "    metric=\"accuracy\",\n",
    "    input_column=\"text\",\n",
    "    label_column=\"label\",\n",
    "    label_mapping=label_mapping,\n",
    "    strategy=\"simple\",\n",
    ")\n",
    "quantized_results"
   ]
  },
  {
   "cell_type": "code",
   "execution_count": 156,
   "id": "ccb5cf25-e0d5-4e7d-b610-c29c685277d0",
   "metadata": {},
   "outputs": [
    {
     "name": "stdout",
     "output_type": "stream",
     "text": [
      "Average latency (ms) - 9.14 +\\- 3.37\n"
     ]
    }
   ],
   "source": [
    "quantized_latency = time_pipeline(ort_classifier, dataset)"
   ]
  },
  {
   "cell_type": "code",
   "execution_count": 166,
   "id": "2da20719-7ea8-439a-a513-dd4fc3e0b0e7",
   "metadata": {},
   "outputs": [
    {
     "data": {
      "text/plain": [
       "{'time_avg_ms': 9.13620000004812, 'time_std_ms': 3.371496491458507}"
      ]
     },
     "execution_count": 166,
     "metadata": {},
     "output_type": "execute_result"
    }
   ],
   "source": [
    "quantized_latency"
   ]
  },
  {
   "cell_type": "code",
   "execution_count": 169,
   "id": "f5484bb2-f168-4287-af60-2d8b13e86fa7",
   "metadata": {},
   "outputs": [
    {
     "data": {
      "image/png": "[encoded data removed]",
      "text/plain": [
       "<Figure size 576x288 with 2 Axes>"
      ]
     },
     "metadata": {
      "needs_background": "light"
     },
     "output_type": "display_data"
    }
   ],
   "source": [
    "fig, (ax0, ax1) = plt.subplots(nrows=1,ncols=2, figsize=(8, 4))\n",
    "ax0.bar(x=\"Baseline\", height=baseline_results[\"accuracy\"])\n",
    "ax0.bar(x=\"Quantized\", height=quantized_results[\"accuracy\"])\n",
    "ax0.set_ylabel(\"Accuracy\")\n",
    "\n",
    "ax1.bar(x=\"Baseline\", height=baseline_latency[\"time_avg_ms\"], yerr=baseline_latency[\"time_std_ms\"])\n",
    "ax1.bar(x=\"Quantized\", height=quantized_latency[\"time_avg_ms\"], yerr=quantized_latency[\"time_std_ms\"])\n",
    "ax1.set_ylabel(\"Latency (ms)\")\n",
    "\n",
    "\n",
    "plt.tight_layout()"
   ]
  },
  {
   "cell_type": "code",
   "execution_count": null,
   "id": "9c015228-ff86-467d-a52b-d162beb79871",
   "metadata": {},
   "outputs": [],
   "source": []
  }
 ],
 "metadata": {
  "kernelspec": {
   "display_name": "hf",
   "language": "python",
   "name": "hf"
  },
  "language_info": {
   "codemirror_mode": {
    "name": "ipython",
    "version": 3
   },
   "file_extension": ".py",
   "mimetype": "text/x-python",
   "name": "python",
   "nbconvert_exporter": "python",
   "pygments_lexer": "ipython3",
   "version": "3.9.7"
  }
 },
 "nbformat": 4,
 "nbformat_minor": 5
}
