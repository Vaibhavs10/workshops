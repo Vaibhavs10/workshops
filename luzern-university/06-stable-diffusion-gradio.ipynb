{
 "cells": [
  {
   "cell_type": "markdown",
   "id": "0c5db8ce-b7a1-4c4c-a1c3-6933efd1d186",
   "metadata": {},
   "source": [
    "# Creating a Diffusers Demo with Gradio"
   ]
  },
  {
   "cell_type": "code",
   "execution_count": 2,
   "id": "e15e5524-5f8e-4c1a-bb2c-f599e5414f13",
   "metadata": {},
   "outputs": [],
   "source": [
    "# %pip install transformers gradio diffusers"
   ]
  },
  {
   "cell_type": "markdown",
   "id": "58335633-23dc-46a3-a8b0-73f14d0727ec",
   "metadata": {},
   "source": [
    "## Example 1: Using the pipeline"
   ]
  },
  {
   "cell_type": "code",
   "execution_count": 10,
   "id": "31540d8d-0a2d-48de-9a3a-a6e34a0bbbb0",
   "metadata": {},
   "outputs": [],
   "source": [
    "import torch\n",
    "\n",
    "device = \"cuda\" if torch.cuda.is_available() else \"cpu\""
   ]
  },
  {
   "cell_type": "code",
   "execution_count": 5,
   "id": "62a66ad8-6bb2-4fef-925b-eef42862eee3",
   "metadata": {},
   "outputs": [
    {
     "data": {
      "application/vnd.jupyter.widget-view+json": {
       "model_id": "9320b849c88b465cbd220f56636f2002",
       "version_major": 2,
       "version_minor": 0
      },
      "text/plain": [
       "Fetching 16 files:   0%|          | 0/16 [00:00<?, ?it/s]"
      ]
     },
     "metadata": {},
     "output_type": "display_data"
    }
   ],
   "source": [
    "from diffusers import StableDiffusionPipeline\n",
    "\n",
    "model_id = \"CompVis/stable-diffusion-v1-4\"\n",
    "pipe = StableDiffusionPipeline.from_pretrained(\n",
    "    model_id, revision=\"fp16\", torch_dtype=torch.float16\n",
    ").to(device)"
   ]
  },
  {
   "cell_type": "code",
   "execution_count": 11,
   "id": "74fd82d8-b443-4e57-ad5e-3a9b1c578d8b",
   "metadata": {},
   "outputs": [
    {
     "data": {
      "application/vnd.jupyter.widget-view+json": {
       "model_id": "d9af1330b5eb43f7aff58e4f646dbb0d",
       "version_major": 2,
       "version_minor": 0
      },
      "text/plain": [
       "  0%|          | 0/51 [00:00<?, ?it/s]"
      ]
     },
     "metadata": {},
     "output_type": "display_data"
    },
    {
     "data": {
      "text/plain": [
       "StableDiffusionPipelineOutput(images=[<PIL.Image.Image image mode=RGB size=512x512 at 0x7F673911B0D0>], nsfw_content_detected=[False])"
      ]
     },
     "execution_count": 11,
     "metadata": {},
     "output_type": "execute_result"
    }
   ],
   "source": [
    "prompt = \"a photograph of an astronaut riding a horse\"\n",
    "\n",
    "outputs = pipe(prompt)\n",
    "outputs"
   ]
  },
  {
   "cell_type": "code",
   "execution_count": 7,
   "id": "b9087d78-5da7-4ed0-882a-401ff32ae407",
   "metadata": {},
   "outputs": [],
   "source": [
    "def predict(prompt):\n",
    "    return pipe(prompt).images[0]"
   ]
  },
  {
   "cell_type": "code",
   "execution_count": 9,
   "id": "df63195c-dda8-4418-a938-79b297e47a0c",
   "metadata": {},
   "outputs": [],
   "source": [
    "import gradio as gr"
   ]
  },
  {
   "cell_type": "code",
   "execution_count": null,
   "id": "0bd091b0-4843-4fb3-8192-b5b705d7171a",
   "metadata": {},
   "outputs": [
    {
     "name": "stderr",
     "output_type": "stream",
     "text": [
      "/home/lewis_huggingface_co/miniconda3/envs/hf/lib/python3.9/site-packages/gradio/inputs.py:26: UserWarning: Usage of gradio.inputs is deprecated, and will not be supported in the future, please import your component from gradio.components\n",
      "  warnings.warn(\n",
      "/home/lewis_huggingface_co/miniconda3/envs/hf/lib/python3.9/site-packages/gradio/deprecation.py:40: UserWarning: `optional` parameter is deprecated, and it has no effect\n",
      "  warnings.warn(value)\n",
      "/home/lewis_huggingface_co/miniconda3/envs/hf/lib/python3.9/site-packages/gradio/deprecation.py:40: UserWarning: `numeric` parameter is deprecated, and it has no effect\n",
      "  warnings.warn(value)\n",
      "/home/lewis_huggingface_co/miniconda3/envs/hf/lib/python3.9/site-packages/gradio/deprecation.py:40: UserWarning: The 'type' parameter has been deprecated. Use the Number component instead.\n",
      "  warnings.warn(value)\n",
      "/home/lewis_huggingface_co/miniconda3/envs/hf/lib/python3.9/site-packages/gradio/outputs.py:42: UserWarning: Usage of gradio.outputs is deprecated, and will not be supported in the future, please import your components from gradio.components\n",
      "  warnings.warn(\n"
     ]
    },
    {
     "name": "stdout",
     "output_type": "stream",
     "text": [
      "Running on local URL:  http://127.0.0.1:7860\n",
      "\n",
      "To create a public link, set `share=True` in `launch()`.\n"
     ]
    },
    {
     "data": {
      "text/html": [
       "<div><iframe src=\"http://127.0.0.1:7860/\" width=\"900\" height=\"500\" allow=\"autoplay; camera; microphone; clipboard-read; clipboard-write;\" frameborder=\"0\" allowfullscreen></iframe></div>"
      ],
      "text/plain": [
       "<IPython.core.display.HTML object>"
      ]
     },
     "metadata": {},
     "output_type": "display_data"
    }
   ],
   "source": [
    "gradio_ui = gr.Interface(\n",
    "    fn=predict,\n",
    "    title=\"Stable Diffusion Demo\",\n",
    "    description=\"Enter a description of an image you'd like to generate!\",\n",
    "    inputs=[\n",
    "        gr.inputs.Textbox(lines=5, label=\"Paste some text here\"),\n",
    "    ],\n",
    "    outputs=[\n",
    "        gr.outputs.Image(),\n",
    "    ],\n",
    "    examples=[\n",
    "        [\"an astronaut riding a horse\"]\n",
    "    ],\n",
    ")\n",
    "\n",
    "gradio_ui.launch(debug=True)"
   ]
  },
  {
   "cell_type": "markdown",
   "id": "2f2abcb1-d907-419f-8ce6-56e59dd4519c",
   "metadata": {},
   "source": [
    "## Example 2: Using the Inference API from the Hugging Face Hub"
   ]
  },
  {
   "cell_type": "code",
   "execution_count": null,
   "id": "eafff38f-1719-4fd2-a032-f7df79cdbe99",
   "metadata": {},
   "outputs": [],
   "source": [
    "from huggingface_hub import InferenceApi\n",
    "\n",
    "text = \"My favourite book is Cryptonomicon!\"\n",
    "inference = InferenceApi(\"lewtun/xlm-roberta-base-finetuned-marc-en\")\n",
    "preds = inference(inputs=text)\n",
    "preds[0]"
   ]
  },
  {
   "cell_type": "code",
   "execution_count": null,
   "id": "aab06356-9b68-4af6-bb20-e577e79131d5",
   "metadata": {},
   "outputs": [],
   "source": [
    "sorted_preds = sorted(preds[0], key=lambda d: d['score'], reverse=True) \n",
    "sorted_preds"
   ]
  },
  {
   "cell_type": "code",
   "execution_count": null,
   "id": "a6cc74c9-9c10-427f-b260-1d05d82c4f87",
   "metadata": {},
   "outputs": [],
   "source": [
    "def inference_predict(text):\n",
    "    inference = InferenceApi(\"lewtun/xlm-roberta-base-finetuned-marc-en\")\n",
    "    preds = inference(inputs=text)\n",
    "    sorted_preds = sorted(preds[0], key=lambda d: d['score'], reverse=True)[0]\n",
    "    return label2emoji[sorted_preds[\"label\"]], round(sorted_preds[\"score\"], 5)"
   ]
  },
  {
   "cell_type": "code",
   "execution_count": null,
   "id": "168b1a7f-eb1d-4e48-8484-fa6a18946541",
   "metadata": {},
   "outputs": [],
   "source": [
    "inference_predict(text)"
   ]
  },
  {
   "cell_type": "code",
   "execution_count": null,
   "id": "5678fc84-3396-4dc0-8420-671b1eab5301",
   "metadata": {},
   "outputs": [],
   "source": [
    "gradio_ui = gr.Interface.load(\n",
    "    name=\"lewtun/xlm-roberta-base-finetuned-marc\",\n",
    "    src=\"huggingface\",\n",
    "    fn=inference_predict,\n",
    "    title=\"Review analysis\",\n",
    "    description=\"Enter some text and check if model detects it's star rating.\",\n",
    "    inputs=[\n",
    "        gr.inputs.Textbox(lines=5, label=\"Paste some text here\"),\n",
    "    ],\n",
    "    outputs=[\n",
    "        gr.outputs.Textbox(label=\"Label\"),\n",
    "        gr.outputs.Textbox(label=\"Score\"),\n",
    "    ],\n",
    "    examples=[\n",
    "        [\"My favourite book is Cryptonomicon!\"], [\"私の好きな本は「クリプトノミコン」です\"]\n",
    "    ],\n",
    ")\n",
    "\n",
    "gradio_ui.launch(debug=True)"
   ]
  },
  {
   "cell_type": "code",
   "execution_count": null,
   "id": "7cf3994c-74b1-43af-a8cd-1c1109de9d85",
   "metadata": {},
   "outputs": [],
   "source": []
  }
 ],
 "metadata": {
  "kernelspec": {
   "display_name": "Python 3 (ipykernel)",
   "language": "python",
   "name": "python3"
  },
  "language_info": {
   "codemirror_mode": {
    "name": "ipython",
    "version": 3
   },
   "file_extension": ".py",
   "mimetype": "text/x-python",
   "name": "python",
   "nbconvert_exporter": "python",
   "pygments_lexer": "ipython3",
   "version": "3.9.13"
  }
 },
 "nbformat": 4,
 "nbformat_minor": 5
}
